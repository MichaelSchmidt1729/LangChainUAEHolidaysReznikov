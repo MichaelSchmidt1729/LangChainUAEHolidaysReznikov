{
  "nbformat": 4,
  "nbformat_minor": 0,
  "metadata": {
    "colab": {
      "provenance": [],
      "include_colab_link": true
    },
    "kernelspec": {
      "name": "python3",
      "display_name": "Python 3"
    },
    "language_info": {
      "name": "python"
    }
  },
  "cells": [
    {
      "cell_type": "markdown",
      "metadata": {
        "id": "view-in-github",
        "colab_type": "text"
      },
      "source": [
        "<a href=\"https://colab.research.google.com/github/MichaelSchmidt1729/LangChainUAEHolidaysReznikov/blob/main/LangChain_UAE_Holidays_Demo.ipynb\" target=\"_parent\"><img src=\"https://colab.research.google.com/assets/colab-badge.svg\" alt=\"Open In Colab\"/></a>"
      ]
    },
    {
      "cell_type": "code",
      "source": [
        "#install all proper packages\n",
        "!pip install chromadb==0.3.25 pydantic==1.10.9 openai==0.27.8 bs4 tiktoken==0.4.0 langchain==0.0.235 huggingface_hub==0.16.4 sentence_transformers==2.2.2 pandas> /dev/null"
      ],
      "metadata": {
        "id": "KCTmQXihq9Jk"
      },
      "execution_count": null,
      "outputs": []
    },
    {
      "cell_type": "markdown",
      "source": [
        "## Data Download\n",
        "Firstly, we will fetch the data from a website containing information about the official public holidays in the UAE for this year. To work with our own data, we will save the table as a CSV file and later load it using the `CSVLoader`. Theoretically, one can use `WebCrawler` instead of a custom function or include our function in a tool."
      ],
      "metadata": {
        "id": "0R1h4Ivn8ETR"
      }
    },
    {
      "cell_type": "code",
      "source": [
        "import requests\n",
        "import bs4\n",
        "import pandas as pd"
      ],
      "metadata": {
        "id": "gXypMluAjBME"
      },
      "execution_count": null,
      "outputs": []
    },
    {
      "cell_type": "code",
      "source": [
        "# Function to make HTTP GET request\n",
        "def get_request(url, cookies={}, headers={}):\n",
        "    return requests.get(url, cookies=cookies, headers=headers)\n",
        "\n",
        "# Function to collect data from a URL and extract the table\n",
        "def collect_data(url):\n",
        "    response = get_request(url)\n",
        "    soup = bs4.BeautifulSoup(response.text, features=\"lxml\")\n",
        "    table = soup.find(\"table\", class_=\"publicholidays\")\n",
        "    return table\n",
        "\n",
        "# Function to convert HTML table to pandas DataFrame\n",
        "def convert_html_table_to_df(html_text):\n",
        "    return pd.read_html(str(html_text))[0]"
      ],
      "metadata": {
        "id": "pe3kftmBioJw"
      },
      "execution_count": null,
      "outputs": []
    },
    {
      "cell_type": "code",
      "source": [
        "# Root URL for the website containing holiday data\n",
        "ROOT_URL = \"https://publicholidays.ae/2023-dates/\"\n",
        "\n",
        "# Collect the data and convert it to a DataFrame\n",
        "html_text = collect_data(url=ROOT_URL)\n",
        "df = convert_html_table_to_df(html_text=html_text)"
      ],
      "metadata": {
        "id": "VorPAnLqmNEQ"
      },
      "execution_count": null,
      "outputs": []
    },
    {
      "cell_type": "code",
      "source": [
        "df"
      ],
      "metadata": {
        "colab": {
          "base_uri": "https://localhost:8080/",
          "height": 520
        },
        "id": "X4p0goVfioMr",
        "outputId": "f5fb3fbc-5435-46b6-dcee-c1a4152dbc8a"
      },
      "execution_count": null,
      "outputs": [
        {
          "output_type": "execute_result",
          "data": {
            "text/plain": [
              "                                    Date  \\\n",
              "0                                  1 Jan   \n",
              "1                                 20 Apr   \n",
              "2                                 21 Apr   \n",
              "3                                 22 Apr   \n",
              "4                                 23 Apr   \n",
              "5                                 27 Jun   \n",
              "6                                 28 Jun   \n",
              "7                                 29 Jun   \n",
              "8                                 30 Jun   \n",
              "9                                 21 Jul   \n",
              "10                                29 Sep   \n",
              "11                                 1 Dec   \n",
              "12                                 2 Dec   \n",
              "13                                 3 Dec   \n",
              "14  Visit u.ae for the original release.   \n",
              "\n",
              "                                     Day                               Holiday  \n",
              "0                                    Sun                        New Year's Day  \n",
              "1                                    Thu                   Eid al-Fitr Holiday  \n",
              "2                                    Fri                           Eid al-Fitr  \n",
              "3                                    Sat                   Eid al-Fitr Holiday  \n",
              "4                                    Sun                   Eid al-Fitr Holiday  \n",
              "5                                    Tue                            Arafat Day  \n",
              "6                                    Wed                           Eid al-Adha  \n",
              "7                                    Thu                   Eid al-Adha Holiday  \n",
              "8                                    Fri                   Eid al-Adha Holiday  \n",
              "9                                    Fri                      Islamic New Year  \n",
              "10                                   Fri           Prophet Muhammad's Birthday  \n",
              "11                                   Fri                     Commemoration Day  \n",
              "12                                   Sat                          National Day  \n",
              "13                                   Sun                  National Day Holiday  \n",
              "14  Visit u.ae for the original release.  Visit u.ae for the original release.  "
            ],
            "text/html": [
              "\n",
              "\n",
              "  <div id=\"df-d4074607-f2a7-47bb-96f2-249404a6dac5\">\n",
              "    <div class=\"colab-df-container\">\n",
              "      <div>\n",
              "<style scoped>\n",
              "    .dataframe tbody tr th:only-of-type {\n",
              "        vertical-align: middle;\n",
              "    }\n",
              "\n",
              "    .dataframe tbody tr th {\n",
              "        vertical-align: top;\n",
              "    }\n",
              "\n",
              "    .dataframe thead th {\n",
              "        text-align: right;\n",
              "    }\n",
              "</style>\n",
              "<table border=\"1\" class=\"dataframe\">\n",
              "  <thead>\n",
              "    <tr style=\"text-align: right;\">\n",
              "      <th></th>\n",
              "      <th>Date</th>\n",
              "      <th>Day</th>\n",
              "      <th>Holiday</th>\n",
              "    </tr>\n",
              "  </thead>\n",
              "  <tbody>\n",
              "    <tr>\n",
              "      <th>0</th>\n",
              "      <td>1 Jan</td>\n",
              "      <td>Sun</td>\n",
              "      <td>New Year's Day</td>\n",
              "    </tr>\n",
              "    <tr>\n",
              "      <th>1</th>\n",
              "      <td>20 Apr</td>\n",
              "      <td>Thu</td>\n",
              "      <td>Eid al-Fitr Holiday</td>\n",
              "    </tr>\n",
              "    <tr>\n",
              "      <th>2</th>\n",
              "      <td>21 Apr</td>\n",
              "      <td>Fri</td>\n",
              "      <td>Eid al-Fitr</td>\n",
              "    </tr>\n",
              "    <tr>\n",
              "      <th>3</th>\n",
              "      <td>22 Apr</td>\n",
              "      <td>Sat</td>\n",
              "      <td>Eid al-Fitr Holiday</td>\n",
              "    </tr>\n",
              "    <tr>\n",
              "      <th>4</th>\n",
              "      <td>23 Apr</td>\n",
              "      <td>Sun</td>\n",
              "      <td>Eid al-Fitr Holiday</td>\n",
              "    </tr>\n",
              "    <tr>\n",
              "      <th>5</th>\n",
              "      <td>27 Jun</td>\n",
              "      <td>Tue</td>\n",
              "      <td>Arafat Day</td>\n",
              "    </tr>\n",
              "    <tr>\n",
              "      <th>6</th>\n",
              "      <td>28 Jun</td>\n",
              "      <td>Wed</td>\n",
              "      <td>Eid al-Adha</td>\n",
              "    </tr>\n",
              "    <tr>\n",
              "      <th>7</th>\n",
              "      <td>29 Jun</td>\n",
              "      <td>Thu</td>\n",
              "      <td>Eid al-Adha Holiday</td>\n",
              "    </tr>\n",
              "    <tr>\n",
              "      <th>8</th>\n",
              "      <td>30 Jun</td>\n",
              "      <td>Fri</td>\n",
              "      <td>Eid al-Adha Holiday</td>\n",
              "    </tr>\n",
              "    <tr>\n",
              "      <th>9</th>\n",
              "      <td>21 Jul</td>\n",
              "      <td>Fri</td>\n",
              "      <td>Islamic New Year</td>\n",
              "    </tr>\n",
              "    <tr>\n",
              "      <th>10</th>\n",
              "      <td>29 Sep</td>\n",
              "      <td>Fri</td>\n",
              "      <td>Prophet Muhammad's Birthday</td>\n",
              "    </tr>\n",
              "    <tr>\n",
              "      <th>11</th>\n",
              "      <td>1 Dec</td>\n",
              "      <td>Fri</td>\n",
              "      <td>Commemoration Day</td>\n",
              "    </tr>\n",
              "    <tr>\n",
              "      <th>12</th>\n",
              "      <td>2 Dec</td>\n",
              "      <td>Sat</td>\n",
              "      <td>National Day</td>\n",
              "    </tr>\n",
              "    <tr>\n",
              "      <th>13</th>\n",
              "      <td>3 Dec</td>\n",
              "      <td>Sun</td>\n",
              "      <td>National Day Holiday</td>\n",
              "    </tr>\n",
              "    <tr>\n",
              "      <th>14</th>\n",
              "      <td>Visit u.ae for the original release.</td>\n",
              "      <td>Visit u.ae for the original release.</td>\n",
              "      <td>Visit u.ae for the original release.</td>\n",
              "    </tr>\n",
              "  </tbody>\n",
              "</table>\n",
              "</div>\n",
              "      <button class=\"colab-df-convert\" onclick=\"convertToInteractive('df-d4074607-f2a7-47bb-96f2-249404a6dac5')\"\n",
              "              title=\"Convert this dataframe to an interactive table.\"\n",
              "              style=\"display:none;\">\n",
              "\n",
              "  <svg xmlns=\"http://www.w3.org/2000/svg\" height=\"24px\"viewBox=\"0 0 24 24\"\n",
              "       width=\"24px\">\n",
              "    <path d=\"M0 0h24v24H0V0z\" fill=\"none\"/>\n",
              "    <path d=\"M18.56 5.44l.94 2.06.94-2.06 2.06-.94-2.06-.94-.94-2.06-.94 2.06-2.06.94zm-11 1L8.5 8.5l.94-2.06 2.06-.94-2.06-.94L8.5 2.5l-.94 2.06-2.06.94zm10 10l.94 2.06.94-2.06 2.06-.94-2.06-.94-.94-2.06-.94 2.06-2.06.94z\"/><path d=\"M17.41 7.96l-1.37-1.37c-.4-.4-.92-.59-1.43-.59-.52 0-1.04.2-1.43.59L10.3 9.45l-7.72 7.72c-.78.78-.78 2.05 0 2.83L4 21.41c.39.39.9.59 1.41.59.51 0 1.02-.2 1.41-.59l7.78-7.78 2.81-2.81c.8-.78.8-2.07 0-2.86zM5.41 20L4 18.59l7.72-7.72 1.47 1.35L5.41 20z\"/>\n",
              "  </svg>\n",
              "      </button>\n",
              "\n",
              "\n",
              "\n",
              "    <div id=\"df-0fef975a-d047-4eeb-8178-e596aa0fd63f\">\n",
              "      <button class=\"colab-df-quickchart\" onclick=\"quickchart('df-0fef975a-d047-4eeb-8178-e596aa0fd63f')\"\n",
              "              title=\"Suggest charts.\"\n",
              "              style=\"display:none;\">\n",
              "\n",
              "<svg xmlns=\"http://www.w3.org/2000/svg\" height=\"24px\"viewBox=\"0 0 24 24\"\n",
              "     width=\"24px\">\n",
              "    <g>\n",
              "        <path d=\"M19 3H5c-1.1 0-2 .9-2 2v14c0 1.1.9 2 2 2h14c1.1 0 2-.9 2-2V5c0-1.1-.9-2-2-2zM9 17H7v-7h2v7zm4 0h-2V7h2v10zm4 0h-2v-4h2v4z\"/>\n",
              "    </g>\n",
              "</svg>\n",
              "      </button>\n",
              "    </div>\n",
              "\n",
              "<style>\n",
              "  .colab-df-quickchart {\n",
              "    background-color: #E8F0FE;\n",
              "    border: none;\n",
              "    border-radius: 50%;\n",
              "    cursor: pointer;\n",
              "    display: none;\n",
              "    fill: #1967D2;\n",
              "    height: 32px;\n",
              "    padding: 0 0 0 0;\n",
              "    width: 32px;\n",
              "  }\n",
              "\n",
              "  .colab-df-quickchart:hover {\n",
              "    background-color: #E2EBFA;\n",
              "    box-shadow: 0px 1px 2px rgba(60, 64, 67, 0.3), 0px 1px 3px 1px rgba(60, 64, 67, 0.15);\n",
              "    fill: #174EA6;\n",
              "  }\n",
              "\n",
              "  [theme=dark] .colab-df-quickchart {\n",
              "    background-color: #3B4455;\n",
              "    fill: #D2E3FC;\n",
              "  }\n",
              "\n",
              "  [theme=dark] .colab-df-quickchart:hover {\n",
              "    background-color: #434B5C;\n",
              "    box-shadow: 0px 1px 3px 1px rgba(0, 0, 0, 0.15);\n",
              "    filter: drop-shadow(0px 1px 2px rgba(0, 0, 0, 0.3));\n",
              "    fill: #FFFFFF;\n",
              "  }\n",
              "</style>\n",
              "\n",
              "    <script>\n",
              "      async function quickchart(key) {\n",
              "        const containerElement = document.querySelector('#' + key);\n",
              "        const charts = await google.colab.kernel.invokeFunction(\n",
              "            'suggestCharts', [key], {});\n",
              "      }\n",
              "    </script>\n",
              "\n",
              "      <script>\n",
              "\n",
              "function displayQuickchartButton(domScope) {\n",
              "  let quickchartButtonEl =\n",
              "    domScope.querySelector('#df-0fef975a-d047-4eeb-8178-e596aa0fd63f button.colab-df-quickchart');\n",
              "  quickchartButtonEl.style.display =\n",
              "    google.colab.kernel.accessAllowed ? 'block' : 'none';\n",
              "}\n",
              "\n",
              "        displayQuickchartButton(document);\n",
              "      </script>\n",
              "      <style>\n",
              "    .colab-df-container {\n",
              "      display:flex;\n",
              "      flex-wrap:wrap;\n",
              "      gap: 12px;\n",
              "    }\n",
              "\n",
              "    .colab-df-convert {\n",
              "      background-color: #E8F0FE;\n",
              "      border: none;\n",
              "      border-radius: 50%;\n",
              "      cursor: pointer;\n",
              "      display: none;\n",
              "      fill: #1967D2;\n",
              "      height: 32px;\n",
              "      padding: 0 0 0 0;\n",
              "      width: 32px;\n",
              "    }\n",
              "\n",
              "    .colab-df-convert:hover {\n",
              "      background-color: #E2EBFA;\n",
              "      box-shadow: 0px 1px 2px rgba(60, 64, 67, 0.3), 0px 1px 3px 1px rgba(60, 64, 67, 0.15);\n",
              "      fill: #174EA6;\n",
              "    }\n",
              "\n",
              "    [theme=dark] .colab-df-convert {\n",
              "      background-color: #3B4455;\n",
              "      fill: #D2E3FC;\n",
              "    }\n",
              "\n",
              "    [theme=dark] .colab-df-convert:hover {\n",
              "      background-color: #434B5C;\n",
              "      box-shadow: 0px 1px 3px 1px rgba(0, 0, 0, 0.15);\n",
              "      filter: drop-shadow(0px 1px 2px rgba(0, 0, 0, 0.3));\n",
              "      fill: #FFFFFF;\n",
              "    }\n",
              "  </style>\n",
              "\n",
              "      <script>\n",
              "        const buttonEl =\n",
              "          document.querySelector('#df-d4074607-f2a7-47bb-96f2-249404a6dac5 button.colab-df-convert');\n",
              "        buttonEl.style.display =\n",
              "          google.colab.kernel.accessAllowed ? 'block' : 'none';\n",
              "\n",
              "        async function convertToInteractive(key) {\n",
              "          const element = document.querySelector('#df-d4074607-f2a7-47bb-96f2-249404a6dac5');\n",
              "          const dataTable =\n",
              "            await google.colab.kernel.invokeFunction('convertToInteractive',\n",
              "                                                     [key], {});\n",
              "          if (!dataTable) return;\n",
              "\n",
              "          const docLinkHtml = 'Like what you see? Visit the ' +\n",
              "            '<a target=\"_blank\" href=https://colab.research.google.com/notebooks/data_table.ipynb>data table notebook</a>'\n",
              "            + ' to learn more about interactive tables.';\n",
              "          element.innerHTML = '';\n",
              "          dataTable['output_type'] = 'display_data';\n",
              "          await google.colab.output.renderOutput(dataTable, element);\n",
              "          const docLink = document.createElement('div');\n",
              "          docLink.innerHTML = docLinkHtml;\n",
              "          element.appendChild(docLink);\n",
              "        }\n",
              "      </script>\n",
              "    </div>\n",
              "  </div>\n"
            ]
          },
          "metadata": {},
          "execution_count": 5
        }
      ]
    },
    {
      "cell_type": "code",
      "source": [
        "# Save the DataFrame to a CSV file\n",
        "df.iloc[:-1, :].to_csv(\"uae_holidays.csv\")"
      ],
      "metadata": {
        "id": "bvfDNzHgsxoQ"
      },
      "execution_count": null,
      "outputs": []
    },
    {
      "cell_type": "markdown",
      "source": [
        "## LangChain\n",
        "Now, we will import several LangChain methods that we will be utilizing. For the purposes of this demo, we will begin with a straightforward approach using the `ChatOpenAI` model. To achieve this, we will load the previously saved file and create a vector index from its contents. Additionally, we will create a simple prompt and set up a memory to store the conversation history. Finally, we will configure a `RetrievalQA` chain to bring all these components together."
      ],
      "metadata": {
        "id": "HVua_HRq8r5Y"
      }
    },
    {
      "cell_type": "code",
      "source": [
        "import os\n",
        "os.environ['OPENAI_API_KEY'] = 'sk-...'"
      ],
      "metadata": {
        "id": "erN0kcg3ioPh"
      },
      "execution_count": null,
      "outputs": []
    },
    {
      "cell_type": "code",
      "source": [
        "# Load language model, embeddings, and index for conversational AI\n",
        "from langchain.chat_models import ChatOpenAI                #model\n",
        "from langchain.indexes import VectorstoreIndexCreator       #index\n",
        "from langchain.document_loaders.csv_loader import CSVLoader #tool\n",
        "from langchain.prompts import PromptTemplate                #prompt\n",
        "from langchain.memory import ConversationBufferMemory       #memory\n",
        "from langchain.chains import RetrievalQA                    #chain\n",
        "\n",
        "#import langchain\n",
        "#langchain.verbose = True"
      ],
      "metadata": {
        "id": "aiDRzpEQDMR4"
      },
      "execution_count": null,
      "outputs": []
    },
    {
      "cell_type": "code",
      "source": [
        "def load_llm():\n",
        "    llm = ChatOpenAI(temperature=0,model_name=\"gpt-3.5-turbo\")\n",
        "    return llm\n",
        "\n",
        "def load_index():\n",
        "    # if you want to avoid the step of saving/loading a file, you can use the `from_documents()` method of the VectorstoreIndexCreator()\n",
        "    loader = CSVLoader(file_path='uae_holidays.csv')\n",
        "    index = VectorstoreIndexCreator().from_loaders([loader])\n",
        "    return index"
      ],
      "metadata": {
        "id": "jyqM7hbGsUMn"
      },
      "execution_count": null,
      "outputs": []
    },
    {
      "cell_type": "code",
      "source": [
        "template = \"\"\"\n",
        "You are a assistant to help answer when are the official UAE holidays, based only on the data provided.\n",
        "Context: {context}\n",
        "-----------------------\n",
        "History: {chat_history}\n",
        "=======================\n",
        "Human: {question}\n",
        "Chatbot:\n",
        "\n",
        "\"\"\"\n",
        "\n",
        "# Create a prompt using the template\n",
        "prompt = PromptTemplate(\n",
        "    input_variables=[\"chat_history\", \"context\", \"question\"],\n",
        "    template=template\n",
        ")"
      ],
      "metadata": {
        "id": "YhpmgQJL9mra"
      },
      "execution_count": null,
      "outputs": []
    },
    {
      "cell_type": "code",
      "source": [
        "# Set up conversation memory\n",
        "memory = ConversationBufferMemory(memory_key=\"chat_history\", return_messages=True, input_key=\"question\")"
      ],
      "metadata": {
        "id": "sVgjt827-m2K"
      },
      "execution_count": null,
      "outputs": []
    },
    {
      "cell_type": "code",
      "source": [
        "# Set up the retrieval-based conversational AI\n",
        "qa = RetrievalQA.from_chain_type(\n",
        "    llm=load_llm(),\n",
        "    chain_type='stuff',\n",
        "    retriever=load_index().vectorstore.as_retriever(),\n",
        "    verbose=True,\n",
        "    chain_type_kwargs={\n",
        "        \"prompt\": prompt,\n",
        "        \"memory\": memory,\n",
        "    }\n",
        ")"
      ],
      "metadata": {
        "id": "NwcoF-2u4lkx"
      },
      "execution_count": null,
      "outputs": []
    },
    {
      "cell_type": "markdown",
      "source": [
        "## Q&A\n",
        "Let's now ask some questions regarding the holidays in UAE:"
      ],
      "metadata": {
        "id": "Vw6gWqOZ_adn"
      }
    },
    {
      "cell_type": "code",
      "source": [
        "# Function to print the response for a given query\n",
        "def print_response_for_query(query):\n",
        "    return print(qa.run({\"query\": query}))"
      ],
      "metadata": {
        "id": "8IFJ1-2twoNx"
      },
      "execution_count": null,
      "outputs": []
    },
    {
      "cell_type": "markdown",
      "source": [
        "### Holidays in March/December"
      ],
      "metadata": {
        "id": "Bhoa6gEhyIdn"
      }
    },
    {
      "cell_type": "code",
      "source": [
        "query = \"Are there any holidays in March?\"\n",
        "print_response_for_query(query)"
      ],
      "metadata": {
        "colab": {
          "base_uri": "https://localhost:8080/"
        },
        "id": "7iBQrEavx2B_",
        "outputId": "82a61bb0-179e-455e-849c-b326945cf416"
      },
      "execution_count": null,
      "outputs": [
        {
          "output_type": "stream",
          "name": "stdout",
          "text": [
            "\n",
            "\n",
            "\u001b[1m> Entering new RetrievalQA chain...\u001b[0m\n",
            "\n",
            "\u001b[1m> Finished chain.\u001b[0m\n",
            "Based on the data provided, there are no holidays in March.\n"
          ]
        }
      ]
    },
    {
      "cell_type": "markdown",
      "source": [
        "Correct response. What about December?"
      ],
      "metadata": {
        "id": "PgnCfZoMyEf8"
      }
    },
    {
      "cell_type": "code",
      "source": [
        "query = \"Sorry, I meant December\"\n",
        "print_response_for_query(query)"
      ],
      "metadata": {
        "id": "FOYD4BnRYuPl",
        "colab": {
          "base_uri": "https://localhost:8080/"
        },
        "outputId": "4bb81a7f-2510-4367-ae41-da00a1f1ec8e"
      },
      "execution_count": null,
      "outputs": [
        {
          "output_type": "stream",
          "name": "stdout",
          "text": [
            "\n",
            "\n",
            "\u001b[1m> Entering new RetrievalQA chain...\u001b[0m\n",
            "\n",
            "\u001b[1m> Finished chain.\u001b[0m\n",
            "Based on the data provided, there are two official holidays in December for the UAE. The first one is Commemoration Day on December 1st, which falls on a Friday. The second one is National Day on December 2nd, which falls on a Saturday. Additionally, there is a National Day Holiday on December 3rd, which falls on a Sunday.\n"
          ]
        }
      ]
    },
    {
      "cell_type": "markdown",
      "source": [
        "Did you notice, how we used the **memory** here? If it wasn't for it, the response would've sounded as:\n",
        "> Sorry, I can't understand you. What exactly are you looking for in December?\n",
        "\n",
        "It is worth noticing, that despite having an error in counting <font color='red'>two</font> the response contains all <font color='green'>three</font> holiday. Prompt upgrade may probably solve the issue."
      ],
      "metadata": {
        "id": "7DrUjBA7yDmW"
      }
    },
    {
      "cell_type": "markdown",
      "source": [
        "### Multichain Ramadan example"
      ],
      "metadata": {
        "id": "4RXVGMmpzRJR"
      }
    },
    {
      "cell_type": "code",
      "source": [
        "query = \"When does this year's holiday marking the end of Ramadan start?\"\n",
        "print_response_for_query(query)"
      ],
      "metadata": {
        "colab": {
          "base_uri": "https://localhost:8080/"
        },
        "id": "v6uyhVH1o7rF",
        "outputId": "0ed905af-21f9-49af-bd6a-5881f178b770"
      },
      "execution_count": null,
      "outputs": [
        {
          "output_type": "stream",
          "name": "stdout",
          "text": [
            "\n",
            "\n",
            "\u001b[1m> Entering new RetrievalQA chain...\u001b[0m\n",
            "\n",
            "\u001b[1m> Finished chain.\u001b[0m\n",
            "This year's holiday marking the end of Ramadan, also known as Eid al-Fitr, starts on April 21st.\n"
          ]
        }
      ]
    },
    {
      "cell_type": "markdown",
      "source": [
        "Now this is quite interesting. The chain correctly identified Eid al-Fitr as the holiday that marks the end of Ramadan. But there is a reason, why I'm starting with scraping, instead of clean csv file. As you may notice, from the table, there is only one holiday called \"Eid al-Fitr\":\n",
        "\n",
        "| Date | Day | Holiday |\n",
        "| --- | --- | --- |\n",
        "| 20 Apr | Thu | Eid al-Fitr Holiday |\n",
        "| 21 Apr | Fri | Eid al-Fitr |\n",
        "| 22 Apr | Sat | Eid al-Fitr Holiday |\n",
        "| 23 Apr | Sun | Eid al-Fitr Holiday |\n",
        "\n",
        "The problem here is that the data is dirty and the model can't identify, that it's actually a 4-day holiday. Of course the easy solution here would be to either clean the data, possibly through tools or modify prompt."
      ],
      "metadata": {
        "id": "3nSoM_UhzaJr"
      }
    },
    {
      "cell_type": "code",
      "source": [
        "query = \"How many days is it celebrated for this year?\"\n",
        "print_response_for_query(query)"
      ],
      "metadata": {
        "colab": {
          "base_uri": "https://localhost:8080/"
        },
        "id": "RRCDJUG5xY4q",
        "outputId": "ccf74b1e-5348-4084-d9cf-6e949fc92df7"
      },
      "execution_count": null,
      "outputs": [
        {
          "output_type": "stream",
          "name": "stdout",
          "text": [
            "\n",
            "\n",
            "\u001b[1m> Entering new RetrievalQA chain...\u001b[0m\n",
            "\n",
            "\u001b[1m> Finished chain.\u001b[0m\n",
            "The holiday marking the end of Ramadan, also known as Eid al-Fitr, is typically celebrated for three days.\n"
          ]
        }
      ]
    },
    {
      "cell_type": "markdown",
      "source": [
        "### What is the next holiday?"
      ],
      "metadata": {
        "id": "12Go2I0Q1Dd2"
      }
    },
    {
      "cell_type": "code",
      "source": [
        "query = \"Today is July 16. When is the nearest holiday?\"\n",
        "print_response_for_query(query)"
      ],
      "metadata": {
        "colab": {
          "base_uri": "https://localhost:8080/"
        },
        "id": "i8jntw9JzOmC",
        "outputId": "a3e739dd-e470-4dc9-e629-298bcf2819ab"
      },
      "execution_count": null,
      "outputs": [
        {
          "output_type": "stream",
          "name": "stdout",
          "text": [
            "\n",
            "\n",
            "\u001b[1m> Entering new RetrievalQA chain...\u001b[0m\n",
            "\n",
            "\u001b[1m> Finished chain.\u001b[0m\n",
            "The nearest holiday is the Islamic New Year, which falls on July 21st.\n"
          ]
        }
      ]
    },
    {
      "cell_type": "markdown",
      "source": [
        "As one can see the nearest holiday is detected correctly. A math tool looks for the closest date from the data provided"
      ],
      "metadata": {
        "id": "Oj7oj_Vl1JkF"
      }
    }
  ]
}